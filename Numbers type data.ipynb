{
 "cells": [
  {
   "cell_type": "code",
   "execution_count": 25,
   "id": "59b35d35",
   "metadata": {},
   "outputs": [],
   "source": [
    "#Lecture about type data\n",
    "#Numbers \n",
    "\n",
    "#Integer number \n",
    "#Whole number\n",
    "#1, 12, 15, etc.\n",
    "\n",
    "#Float number \n",
    "#Have a decimal point"
   ]
  },
  {
   "cell_type": "code",
   "execution_count": 3,
   "id": "414f8bff",
   "metadata": {},
   "outputs": [
    {
     "data": {
      "text/plain": [
       "5"
      ]
     },
     "execution_count": 3,
     "metadata": {},
     "output_type": "execute_result"
    }
   ],
   "source": [
    "#Addition \n",
    "\n",
    "3 + 2 "
   ]
  },
  {
   "cell_type": "code",
   "execution_count": 5,
   "id": "00601f7b",
   "metadata": {},
   "outputs": [
    {
     "data": {
      "text/plain": [
       "-2"
      ]
     },
     "execution_count": 5,
     "metadata": {},
     "output_type": "execute_result"
    }
   ],
   "source": [
    "#Subtraction \n",
    "\n",
    "5 - 7 "
   ]
  },
  {
   "cell_type": "code",
   "execution_count": 7,
   "id": "464d9906",
   "metadata": {},
   "outputs": [
    {
     "data": {
      "text/plain": [
       "6"
      ]
     },
     "execution_count": 7,
     "metadata": {},
     "output_type": "execute_result"
    }
   ],
   "source": [
    "#Multiply. Multiply symbol in code is * \n",
    "\n",
    "3 * 2"
   ]
  },
  {
   "cell_type": "code",
   "execution_count": 12,
   "id": "6b60b7f2",
   "metadata": {},
   "outputs": [
    {
     "data": {
      "text/plain": [
       "3"
      ]
     },
     "execution_count": 12,
     "metadata": {},
     "output_type": "execute_result"
    }
   ],
   "source": [
    "#Division. \n",
    "#In python division, have 2 type, first integer division (//) and float division (/).\n",
    "#The different is the value result when you doing the operator.In Integer division, the result is integer number,\n",
    "#but in float division the result is float (have decimal point). You can see the different result between integer division\n",
    "#and float division in out[12] and out[13]. \n",
    "#In out[12] the result is integer value, but in out[13] the result is float number\n",
    "\n",
    "#Integer division \n",
    "6 // 2 "
   ]
  },
  {
   "cell_type": "code",
   "execution_count": 13,
   "id": "1ec5f12b",
   "metadata": {},
   "outputs": [
    {
     "data": {
      "text/plain": [
       "3.0"
      ]
     },
     "execution_count": 13,
     "metadata": {},
     "output_type": "execute_result"
    }
   ],
   "source": [
    "#Float division \n",
    "\n",
    "6 / 2 "
   ]
  },
  {
   "cell_type": "code",
   "execution_count": 2,
   "id": "45058403",
   "metadata": {},
   "outputs": [
    {
     "data": {
      "text/plain": [
       "36"
      ]
     },
     "execution_count": 2,
     "metadata": {},
     "output_type": "execute_result"
    }
   ],
   "source": [
    "#Exponent \n",
    "\n",
    "6**2"
   ]
  },
  {
   "cell_type": "code",
   "execution_count": 20,
   "id": "e26cc218",
   "metadata": {},
   "outputs": [
    {
     "data": {
      "text/plain": [
       "1"
      ]
     },
     "execution_count": 20,
     "metadata": {},
     "output_type": "execute_result"
    }
   ],
   "source": [
    "#Modulo \n",
    "# Remainder of the division. Modulo operator in python symbolize with %\n",
    "\n",
    "6 % 5"
   ]
  },
  {
   "cell_type": "code",
   "execution_count": 32,
   "id": "b2ba38f0",
   "metadata": {},
   "outputs": [
    {
     "data": {
      "text/plain": [
       "105"
      ]
     },
     "execution_count": 32,
     "metadata": {},
     "output_type": "execute_result"
    }
   ],
   "source": [
    "#Order of operation. Remember about PEMDAS\n",
    "#Parentheses\n",
    "#Exponent\n",
    "#Multiplication\n",
    "#Division\n",
    "#Addition\n",
    "#Subtraction\n",
    "\n",
    "2 + 10 * 10 + 3"
   ]
  },
  {
   "cell_type": "code",
   "execution_count": 33,
   "id": "9e3e2ebb",
   "metadata": {},
   "outputs": [
    {
     "data": {
      "text/plain": [
       "156"
      ]
     },
     "execution_count": 33,
     "metadata": {},
     "output_type": "execute_result"
    }
   ],
   "source": [
    "(2 + 10) * (10 + 3)"
   ]
  },
  {
   "cell_type": "code",
   "execution_count": 24,
   "id": "2eabea38",
   "metadata": {},
   "outputs": [
    {
     "name": "stdout",
     "output_type": "stream",
     "text": [
      "Type a number 5\n",
      "Odds numbers\n"
     ]
    }
   ],
   "source": [
    "#How to check even or odds number using modulo operator\n",
    "x = int(input(\"Type a number : \"))\n",
    "if x % 2 == 0:\n",
    "    print(\"Even numbers\")\n",
    "else:\n",
    "    print(\"Odds numbers\")"
   ]
  },
  {
   "cell_type": "code",
   "execution_count": null,
   "id": "5baf0c3b",
   "metadata": {},
   "outputs": [],
   "source": []
  }
 ],
 "metadata": {
  "kernelspec": {
   "display_name": "Python 3 (ipykernel)",
   "language": "python",
   "name": "python3"
  },
  "language_info": {
   "codemirror_mode": {
    "name": "ipython",
    "version": 3
   },
   "file_extension": ".py",
   "mimetype": "text/x-python",
   "name": "python",
   "nbconvert_exporter": "python",
   "pygments_lexer": "ipython3",
   "version": "3.9.13"
  },
  "widgets": {
   "application/vnd.jupyter.widget-state+json": {
    "state": {},
    "version_major": 2,
    "version_minor": 0
   }
  }
 },
 "nbformat": 4,
 "nbformat_minor": 5
}
